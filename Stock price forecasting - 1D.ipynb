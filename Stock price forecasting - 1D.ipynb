{
 "cells": [
  {
   "cell_type": "code",
   "execution_count": 1,
   "metadata": {},
   "outputs": [
    {
     "name": "stderr",
     "output_type": "stream",
     "text": [
      "Using TensorFlow backend.\n",
      "/Users/vishalnigam/anaconda3/lib/python3.6/site-packages/tensorflow/python/framework/dtypes.py:471: FutureWarning: Passing (type, 1) or '1type' as a synonym of type is deprecated; in a future version of numpy, it will be understood as (type, (1,)) / '(1,)type'.\n",
      "  _np_qint8 = np.dtype([(\"qint8\", np.int8, 1)])\n",
      "/Users/vishalnigam/anaconda3/lib/python3.6/site-packages/tensorflow/python/framework/dtypes.py:472: FutureWarning: Passing (type, 1) or '1type' as a synonym of type is deprecated; in a future version of numpy, it will be understood as (type, (1,)) / '(1,)type'.\n",
      "  _np_quint8 = np.dtype([(\"quint8\", np.uint8, 1)])\n",
      "/Users/vishalnigam/anaconda3/lib/python3.6/site-packages/tensorflow/python/framework/dtypes.py:473: FutureWarning: Passing (type, 1) or '1type' as a synonym of type is deprecated; in a future version of numpy, it will be understood as (type, (1,)) / '(1,)type'.\n",
      "  _np_qint16 = np.dtype([(\"qint16\", np.int16, 1)])\n",
      "/Users/vishalnigam/anaconda3/lib/python3.6/site-packages/tensorflow/python/framework/dtypes.py:474: FutureWarning: Passing (type, 1) or '1type' as a synonym of type is deprecated; in a future version of numpy, it will be understood as (type, (1,)) / '(1,)type'.\n",
      "  _np_quint16 = np.dtype([(\"quint16\", np.uint16, 1)])\n",
      "/Users/vishalnigam/anaconda3/lib/python3.6/site-packages/tensorflow/python/framework/dtypes.py:475: FutureWarning: Passing (type, 1) or '1type' as a synonym of type is deprecated; in a future version of numpy, it will be understood as (type, (1,)) / '(1,)type'.\n",
      "  _np_qint32 = np.dtype([(\"qint32\", np.int32, 1)])\n",
      "/Users/vishalnigam/anaconda3/lib/python3.6/site-packages/dask/dataframe/utils.py:15: FutureWarning: pandas.util.testing is deprecated. Use the functions in the public API at pandas.testing instead.\n",
      "  import pandas.util.testing as tm\n"
     ]
    }
   ],
   "source": [
    "import pandas as pd\n",
    "import numpy as np\n",
    "from datetime import datetime\n",
    "from sklearn.preprocessing import MinMaxScaler\n",
    "from keras.models import Sequential\n",
    "from keras.layers import Dense, Dropout, LSTM"
   ]
  },
  {
   "cell_type": "markdown",
   "metadata": {},
   "source": [
    "Identify product"
   ]
  },
  {
   "cell_type": "code",
   "execution_count": 2,
   "metadata": {},
   "outputs": [],
   "source": [
    "product = \"RELIANCE.NS\"\n",
    "startDate = \"2015-01-01\"\n",
    "toDate = datetime.today().strftime('%Y-%m-%d')\n",
    "use_n_days = 30 "
   ]
  },
  {
   "cell_type": "code",
   "execution_count": 3,
   "metadata": {},
   "outputs": [
    {
     "name": "stdout",
     "output_type": "stream",
     "text": [
      "[*********************100%***********************]  1 of 1 completed\n"
     ]
    }
   ],
   "source": [
    "from pandas_datareader import data as pdr\n",
    "import yfinance as yf\n",
    "yf.pdr_override() # <== that's all it takes :-)\n",
    "\n",
    "# download dataframe\n",
    "data = pdr.get_data_yahoo(product, start=startDate, end=toDate)"
   ]
  },
  {
   "cell_type": "code",
   "execution_count": 4,
   "metadata": {},
   "outputs": [],
   "source": [
    "import pandas as pd\n",
    "from stockstats import StockDataFrame as Sdf"
   ]
  },
  {
   "cell_type": "code",
   "execution_count": 5,
   "metadata": {},
   "outputs": [],
   "source": [
    "stock_prices = Sdf.retype(data)"
   ]
  },
  {
   "cell_type": "code",
   "execution_count": 6,
   "metadata": {},
   "outputs": [],
   "source": [
    "stock_prices['Date'] = stock_prices.index"
   ]
  },
  {
   "cell_type": "code",
   "execution_count": 7,
   "metadata": {},
   "outputs": [
    {
     "data": {
      "text/html": [
       "<div>\n",
       "<style scoped>\n",
       "    .dataframe tbody tr th:only-of-type {\n",
       "        vertical-align: middle;\n",
       "    }\n",
       "\n",
       "    .dataframe tbody tr th {\n",
       "        vertical-align: top;\n",
       "    }\n",
       "\n",
       "    .dataframe thead th {\n",
       "        text-align: right;\n",
       "    }\n",
       "</style>\n",
       "<table border=\"1\" class=\"dataframe\">\n",
       "  <thead>\n",
       "    <tr style=\"text-align: right;\">\n",
       "      <th></th>\n",
       "      <th>open</th>\n",
       "      <th>high</th>\n",
       "      <th>low</th>\n",
       "      <th>close</th>\n",
       "      <th>adj close</th>\n",
       "      <th>volume</th>\n",
       "      <th>Date</th>\n",
       "    </tr>\n",
       "    <tr>\n",
       "      <th>Date</th>\n",
       "      <th></th>\n",
       "      <th></th>\n",
       "      <th></th>\n",
       "      <th></th>\n",
       "      <th></th>\n",
       "      <th></th>\n",
       "      <th></th>\n",
       "    </tr>\n",
       "  </thead>\n",
       "  <tbody>\n",
       "    <tr>\n",
       "      <th>2015-01-01</th>\n",
       "      <td>443.149994</td>\n",
       "      <td>446.000000</td>\n",
       "      <td>441.825012</td>\n",
       "      <td>443.950012</td>\n",
       "      <td>415.367096</td>\n",
       "      <td>1354878</td>\n",
       "      <td>2015-01-01</td>\n",
       "    </tr>\n",
       "    <tr>\n",
       "      <th>2015-01-02</th>\n",
       "      <td>444.049988</td>\n",
       "      <td>448.024994</td>\n",
       "      <td>442.149994</td>\n",
       "      <td>442.774994</td>\n",
       "      <td>414.267700</td>\n",
       "      <td>3351654</td>\n",
       "      <td>2015-01-02</td>\n",
       "    </tr>\n",
       "    <tr>\n",
       "      <th>2015-01-05</th>\n",
       "      <td>442.500000</td>\n",
       "      <td>445.450012</td>\n",
       "      <td>437.049988</td>\n",
       "      <td>437.924988</td>\n",
       "      <td>409.729980</td>\n",
       "      <td>4619182</td>\n",
       "      <td>2015-01-05</td>\n",
       "    </tr>\n",
       "    <tr>\n",
       "      <th>2015-01-06</th>\n",
       "      <td>435.000000</td>\n",
       "      <td>436.500000</td>\n",
       "      <td>416.000000</td>\n",
       "      <td>418.049988</td>\n",
       "      <td>391.134613</td>\n",
       "      <td>8516086</td>\n",
       "      <td>2015-01-06</td>\n",
       "    </tr>\n",
       "    <tr>\n",
       "      <th>2015-01-07</th>\n",
       "      <td>418.549988</td>\n",
       "      <td>429.399994</td>\n",
       "      <td>418.500000</td>\n",
       "      <td>427.149994</td>\n",
       "      <td>399.648712</td>\n",
       "      <td>9472630</td>\n",
       "      <td>2015-01-07</td>\n",
       "    </tr>\n",
       "    <tr>\n",
       "      <th>...</th>\n",
       "      <td>...</td>\n",
       "      <td>...</td>\n",
       "      <td>...</td>\n",
       "      <td>...</td>\n",
       "      <td>...</td>\n",
       "      <td>...</td>\n",
       "      <td>...</td>\n",
       "    </tr>\n",
       "    <tr>\n",
       "      <th>2020-12-28</th>\n",
       "      <td>2006.699951</td>\n",
       "      <td>2018.000000</td>\n",
       "      <td>1995.300049</td>\n",
       "      <td>2003.300049</td>\n",
       "      <td>2003.300049</td>\n",
       "      <td>7947719</td>\n",
       "      <td>2020-12-28</td>\n",
       "    </tr>\n",
       "    <tr>\n",
       "      <th>2020-12-29</th>\n",
       "      <td>2009.000000</td>\n",
       "      <td>2012.300049</td>\n",
       "      <td>1982.550049</td>\n",
       "      <td>1990.050049</td>\n",
       "      <td>1990.050049</td>\n",
       "      <td>8589407</td>\n",
       "      <td>2020-12-29</td>\n",
       "    </tr>\n",
       "    <tr>\n",
       "      <th>2020-12-30</th>\n",
       "      <td>1995.250000</td>\n",
       "      <td>2007.199951</td>\n",
       "      <td>1975.550049</td>\n",
       "      <td>1995.500000</td>\n",
       "      <td>1995.500000</td>\n",
       "      <td>10173132</td>\n",
       "      <td>2020-12-30</td>\n",
       "    </tr>\n",
       "    <tr>\n",
       "      <th>2020-12-31</th>\n",
       "      <td>1993.500000</td>\n",
       "      <td>2011.900024</td>\n",
       "      <td>1978.599976</td>\n",
       "      <td>1985.300049</td>\n",
       "      <td>1985.300049</td>\n",
       "      <td>8667516</td>\n",
       "      <td>2020-12-31</td>\n",
       "    </tr>\n",
       "    <tr>\n",
       "      <th>2021-01-01</th>\n",
       "      <td>1988.000000</td>\n",
       "      <td>1997.000000</td>\n",
       "      <td>1982.000000</td>\n",
       "      <td>1987.500000</td>\n",
       "      <td>1987.500000</td>\n",
       "      <td>4622002</td>\n",
       "      <td>2021-01-01</td>\n",
       "    </tr>\n",
       "  </tbody>\n",
       "</table>\n",
       "<p>1479 rows × 7 columns</p>\n",
       "</div>"
      ],
      "text/plain": [
       "                   open         high          low        close    adj close  \\\n",
       "Date                                                                          \n",
       "2015-01-01   443.149994   446.000000   441.825012   443.950012   415.367096   \n",
       "2015-01-02   444.049988   448.024994   442.149994   442.774994   414.267700   \n",
       "2015-01-05   442.500000   445.450012   437.049988   437.924988   409.729980   \n",
       "2015-01-06   435.000000   436.500000   416.000000   418.049988   391.134613   \n",
       "2015-01-07   418.549988   429.399994   418.500000   427.149994   399.648712   \n",
       "...                 ...          ...          ...          ...          ...   \n",
       "2020-12-28  2006.699951  2018.000000  1995.300049  2003.300049  2003.300049   \n",
       "2020-12-29  2009.000000  2012.300049  1982.550049  1990.050049  1990.050049   \n",
       "2020-12-30  1995.250000  2007.199951  1975.550049  1995.500000  1995.500000   \n",
       "2020-12-31  1993.500000  2011.900024  1978.599976  1985.300049  1985.300049   \n",
       "2021-01-01  1988.000000  1997.000000  1982.000000  1987.500000  1987.500000   \n",
       "\n",
       "              volume       Date  \n",
       "Date                             \n",
       "2015-01-01   1354878 2015-01-01  \n",
       "2015-01-02   3351654 2015-01-02  \n",
       "2015-01-05   4619182 2015-01-05  \n",
       "2015-01-06   8516086 2015-01-06  \n",
       "2015-01-07   9472630 2015-01-07  \n",
       "...              ...        ...  \n",
       "2020-12-28   7947719 2020-12-28  \n",
       "2020-12-29   8589407 2020-12-29  \n",
       "2020-12-30  10173132 2020-12-30  \n",
       "2020-12-31   8667516 2020-12-31  \n",
       "2021-01-01   4622002 2021-01-01  \n",
       "\n",
       "[1479 rows x 7 columns]"
      ]
     },
     "execution_count": 7,
     "metadata": {},
     "output_type": "execute_result"
    }
   ],
   "source": [
    "stock_prices"
   ]
  },
  {
   "cell_type": "code",
   "execution_count": 8,
   "metadata": {},
   "outputs": [
    {
     "name": "stderr",
     "output_type": "stream",
     "text": [
      "/Users/vishalnigam/anaconda3/lib/python3.6/site-packages/sklearn/utils/validation.py:429: DataConversionWarning: Data with input dtype object was converted to float64 by MinMaxScaler.\n",
      "  warnings.warn(msg, _DataConversionWarning)\n"
     ]
    },
    {
     "name": "stdout",
     "output_type": "stream",
     "text": [
      "Epoch 1/5\n",
      "44s - loss: 8.0077e-04\n",
      "Epoch 2/5\n",
      "44s - loss: 2.8009e-04\n",
      "Epoch 3/5\n",
      "51s - loss: 2.2288e-04\n",
      "Epoch 4/5\n",
      "48s - loss: 1.7138e-04\n",
      "Epoch 5/5\n",
      "44s - loss: 1.6355e-04\n"
     ]
    }
   ],
   "source": [
    "data = stock_prices\n",
    "new_data = pd.DataFrame(index=range(0,len(stock_prices)),columns=['Date', 'close'])\n",
    "for i in range(0,len(data)):\n",
    "    new_data['Date'][i] = data['Date'][i]\n",
    "    new_data['close'][i] = data['close'][i]\n",
    "\n",
    "new_data.index = new_data.Date\n",
    "new_data.drop('Date', axis=1, inplace=True)\n",
    "dataset = new_data.values\n",
    "train = dataset[0:len(new_data)*0.75,:]\n",
    "test = dataset[len(new_data)*0.75:,:]\n",
    "scaler = MinMaxScaler(feature_range=(0, 1))\n",
    "scaled_data = scaler.fit_transform(dataset)\n",
    "\n",
    "x_train, y_train = [], []\n",
    "for i in range(use_n_days,len(train)):\n",
    "    x_train.append(scaled_data[i-use_n_days:i,0])\n",
    "    y_train.append(scaled_data[i,0])\n",
    "x_train, y_train = np.array(x_train), np.array(y_train)\n",
    "x_train = np.reshape(x_train, (x_train.shape[0],x_train.shape[1],1))\n",
    "\n",
    "model = Sequential()\n",
    "model.add(LSTM(units=50, return_sequences=True, input_shape=(x_train.shape[1],1)))\n",
    "model.add(LSTM(units=50))\n",
    "model.add(Dense(1))\n",
    "model.compile(loss='mean_squared_error', optimizer='adam')\n",
    "model.fit(x_train, y_train, epochs=5, batch_size=1, verbose=10)\n",
    "inputs = new_data[len(new_data) - len(test) - use_n_days:].values\n",
    "inputs = inputs.reshape(-1,1)\n",
    "inputs  = scaler.transform(inputs)\n",
    "X_test = []\n",
    "for i in range(use_n_days,inputs.shape[0]):\n",
    "    X_test.append(inputs[i-use_n_days:i,0])\n",
    "X_test = np.array(X_test)\n",
    "\n",
    "X_test = np.reshape(X_test, (X_test.shape[0],X_test.shape[1],1))\n",
    "closing_price = model.predict(X_test)\n",
    "closing_price = scaler.inverse_transform(closing_price)"
   ]
  },
  {
   "cell_type": "code",
   "execution_count": 9,
   "metadata": {},
   "outputs": [
    {
     "data": {
      "text/plain": [
       "51.53045304014567"
      ]
     },
     "execution_count": 9,
     "metadata": {},
     "output_type": "execute_result"
    }
   ],
   "source": [
    "rms=np.sqrt(np.mean(np.power((test-closing_price),2)))\n",
    "rms"
   ]
  },
  {
   "cell_type": "code",
   "execution_count": 10,
   "metadata": {},
   "outputs": [
    {
     "name": "stderr",
     "output_type": "stream",
     "text": [
      "/Users/vishalnigam/anaconda3/lib/python3.6/site-packages/ipykernel_launcher.py:5: SettingWithCopyWarning: \n",
      "A value is trying to be set on a copy of a slice from a DataFrame.\n",
      "Try using .loc[row_indexer,col_indexer] = value instead\n",
      "\n",
      "See the caveats in the documentation: https://pandas.pydata.org/pandas-docs/stable/user_guide/indexing.html#returning-a-view-versus-a-copy\n",
      "  \"\"\"\n"
     ]
    },
    {
     "data": {
      "text/plain": [
       "[<matplotlib.lines.Line2D at 0x7f88f9590f28>,\n",
       " <matplotlib.lines.Line2D at 0x7f88f95eccc0>]"
      ]
     },
     "execution_count": 10,
     "metadata": {},
     "output_type": "execute_result"
    },
    {
     "data": {
      "image/png": "[encoded data removed]",
      "text/plain": [
       "<Figure size 432x288 with 1 Axes>"
      ]
     },
     "metadata": {
      "needs_background": "light"
     },
     "output_type": "display_data"
    }
   ],
   "source": [
    "#for plotting\n",
    "import matplotlib.pyplot as plt\n",
    "train = new_data[:987]\n",
    "test = new_data[987:]\n",
    "test['Predictions'] = closing_price\n",
    "plt.plot(train['close'])\n",
    "plt.plot(test[['close','Predictions']])"
   ]
  },
  {
   "cell_type": "markdown",
   "metadata": {},
   "source": [
    "Predict future stock prices"
   ]
  },
  {
   "cell_type": "code",
   "execution_count": 11,
   "metadata": {},
   "outputs": [],
   "source": [
    "inputs = new_data[len(new_data) - len(test) - use_n_days:].values\n",
    "inputs = inputs.reshape(-1,1)\n",
    "inputs  = scaler.transform(inputs)\n",
    "X_test = []\n",
    "for i in range(use_n_days,inputs.shape[0]+1):\n",
    "    X_test.append(inputs[i-use_n_days:i,0])\n",
    "X_test = np.array(X_test)\n",
    "\n",
    "X_test = np.reshape(X_test, (X_test.shape[0],X_test.shape[1],1))\n",
    "closing_price_tomorrow = model.predict(X_test)\n",
    "closing_price_tomorrow = scaler.inverse_transform(closing_price_tomorrow)"
   ]
  },
  {
   "cell_type": "markdown",
   "metadata": {},
   "source": [
    "Tomorrow's predicted price"
   ]
  },
  {
   "cell_type": "code",
   "execution_count": 17,
   "metadata": {},
   "outputs": [
    {
     "name": "stdout",
     "output_type": "stream",
     "text": [
      "Stock price is expected between 1942.9511179785502 and 2046.0120240588415\n"
     ]
    }
   ],
   "source": [
    "deviation = closing_price[len(closing_price)-2:len(closing_price)-1][0][0]/ closing_price[len(closing_price)-1:len(closing_price)][0][0] \n",
    "stock_price = deviation * data.tail(1).close[0]\n",
    "stock_price_higher = stock_price + rms\n",
    "stock_price_lower = stock_price - rms\n",
    "\n",
    "print(\"Stock price is expected between \" + str(stock_price_lower) + \" and \"+ str(stock_price_higher))"
   ]
  },
  {
   "cell_type": "code",
   "execution_count": null,
   "metadata": {},
   "outputs": [],
   "source": []
  }
 ],
 "metadata": {
  "kernelspec": {
   "display_name": "Python 3",
   "language": "python",
   "name": "python3"
  },
  "language_info": {
   "codemirror_mode": {
    "name": "ipython",
    "version": 3
   },
   "file_extension": ".py",
   "mimetype": "text/x-python",
   "name": "python",
   "nbconvert_exporter": "python",
   "pygments_lexer": "ipython3",
   "version": "3.6.1"
  }
 },
 "nbformat": 4,
 "nbformat_minor": 2
}
